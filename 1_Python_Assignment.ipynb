{
  "nbformat": 4,
  "nbformat_minor": 0,
  "metadata": {
    "kernelspec": {
      "display_name": "Python 3",
      "language": "python",
      "name": "python3"
    },
    "language_info": {
      "codemirror_mode": {
        "name": "ipython",
        "version": 3
      },
      "file_extension": ".py",
      "mimetype": "text/x-python",
      "name": "python",
      "nbconvert_exporter": "python",
      "pygments_lexer": "ipython3",
      "version": "3.6.8"
    },
    "colab": {
      "name": "1.Python Assignment.ipynb",
      "provenance": [],
      "collapsed_sections": []
    }
  },
  "cells": [
    {
      "cell_type": "markdown",
      "metadata": {
        "id": "l0ZzOlyxB-kf"
      },
      "source": [
        "<h1>Python: without numpy or sklearn </h1>"
      ]
    },
    {
      "cell_type": "markdown",
      "metadata": {
        "id": "C0xO8JV9B-ki"
      },
      "source": [
        "<h3> Q1: Given two matrices please print the product of those two matrices </h3>\n",
        "<pre>\n",
        "\n",
        "Ex 1: A   = [[1 3 4]\n",
        "             [2 5 7]\n",
        "             [5 9 6]]\n",
        "      B   = [[1 0 0]\n",
        "             [0 1 0]\n",
        "             [0 0 1]]\n",
        "      A*B = [[1 3 4]\n",
        "             [2 5 7]\n",
        "             [5 9 6]]\n",
        "\n",
        "     \n",
        "Ex 2: A   = [[1 2]\n",
        "             [3 4]]\n",
        "      B   = [[1 2 3 4 5]\n",
        "             [5 6 7 8 9]]\n",
        "      A*B = [[11 14 17 20 23]\n",
        "             [23 30 36 42 51]]\n",
        "             \n",
        "Ex 3: A   = [[1 2]\n",
        "             [3 4]]\n",
        "      B   = [[1 4]\n",
        "             [5 6]\n",
        "             [7 8]\n",
        "             [9 6]]\n",
        "      A*B =Not possible\n",
        "</pre>"
      ]
    },
    {
      "cell_type": "code",
      "metadata": {
        "id": "rnssAfpgB-kj",
        "colab": {
          "base_uri": "https://localhost:8080/",
          "height": 0
        },
        "outputId": "922ad208-4663-490d-f8b7-026a8104547e"
      },
      "source": [
        "# write your python code here\n",
        "# you can take the above example as sample input for your program to test\n",
        "# it should work for any general input try not to hard code for only given input examples\n",
        "\n",
        "\n",
        "# you can free to change all these codes/structure\n",
        "# here A and B are list of lists\n",
        "def matrix_mul(A, B):\n",
        "    resultOfMultiplication = [[0, 0, 0, 0],\n",
        "        [0, 0, 0, 0],\n",
        "        [0, 0, 0, 0]];\n",
        "    for i in range(len(A)):\n",
        "        for j in range(len(B[0])):\n",
        "            for k in range(len(B)):\n",
        "                resultOfMultiplication[i][j] += A[i][k] * B[k][j]\n",
        "    return(resultOfMultiplication)\n",
        "A   = [[1, 2], [3, 4]]\n",
        "# take a 3x4 matrix   \n",
        "B   = [[1 ,2 ,3, 4 ,5],[5 ,6 ,7 ,8 ,9]]\n",
        "matrix_mul(B,A)"
      ],
      "execution_count": 116,
      "outputs": [
        {
          "output_type": "execute_result",
          "data": {
            "text/plain": [
              "[[7, 10, 0, 0], [23, 34, 0, 0], [0, 0, 0, 0]]"
            ]
          },
          "metadata": {},
          "execution_count": 116
        }
      ]
    },
    {
      "cell_type": "markdown",
      "metadata": {
        "id": "at4VwLggB-kn"
      },
      "source": [
        "<h3> Q2: Select a number randomly with probability proportional to its magnitude from the given array of n elements</h3>\n",
        "\n",
        "consider an experiment, selecting an element from the list A randomly with probability proportional to its magnitude.\n",
        "assume we are doing the same experiment for 100 times with replacement, in each experiment you will print a number that is selected randomly from A.\n",
        "\n",
        "<pre>\n",
        "Ex 1: A = [0 5 27 6 13 28 100 45 10 79]\n",
        "let f(x) denote the number of times x getting selected in 100 experiments.\n",
        "f(100) > f(79) > f(45) > f(28) > f(27) > f(13) > f(10) > f(6) > f(5) > f(0)\n",
        "</pre>"
      ]
    },
    {
      "cell_type": "code",
      "metadata": {
        "id": "B6S2dpBhB-kn",
        "colab": {
          "base_uri": "https://localhost:8080/",
          "height": 0
        },
        "outputId": "9ad6b620-7998-405b-d207-f04fc7901d91"
      },
      "source": [
        "import random\n",
        "# write your python code here\n",
        "# you can take the above example as sample input for your program to test\n",
        "# it should work for any general input try not to hard code for only given input examples\n",
        "\n",
        "\n",
        "# you can free to change all these codes/structure\n",
        "values=[0, 5 ,27, 6, 13, 28, 100, 45, 10,79]   \n",
        "\n",
        "def pick_a_number_from_list(A):\n",
        "    sum=0;\n",
        "    #first finding the sum of the array elements in the list\n",
        "    for i in A:\n",
        "        sum+=i;\n",
        "    x=0\n",
        "    proportionaity=[]\n",
        "    for i in A:\n",
        "        proportionaity.append(x+i/sum)\n",
        "        x=x+i/sum;\n",
        "    #proportionaity contains cumulative sum\n",
        "    r=random.uniform(0,1)\n",
        "    for i in range (0,len(proportionaity)):\n",
        "        # print(i)\n",
        "        if r<=proportionaity[i]:\n",
        "            return A[i]\n",
        "\n",
        "def sampling_based_on_magnitued():\n",
        "    for i in range(1,100):\n",
        "        number = pick_a_number_from_list(values)\n",
        "        print(number)\n",
        "\n",
        "sampling_based_on_magnitued()"
      ],
      "execution_count": 107,
      "outputs": [
        {
          "output_type": "stream",
          "name": "stdout",
          "text": [
            "79\n",
            "100\n",
            "100\n",
            "28\n",
            "13\n",
            "79\n",
            "28\n",
            "45\n",
            "45\n",
            "100\n",
            "79\n",
            "45\n",
            "27\n",
            "27\n",
            "79\n",
            "100\n",
            "28\n",
            "100\n",
            "28\n",
            "10\n",
            "13\n",
            "27\n",
            "45\n",
            "100\n",
            "28\n",
            "79\n",
            "100\n",
            "79\n",
            "100\n",
            "100\n",
            "100\n",
            "100\n",
            "28\n",
            "45\n",
            "100\n",
            "100\n",
            "79\n",
            "45\n",
            "79\n",
            "27\n",
            "10\n",
            "79\n",
            "100\n",
            "6\n",
            "10\n",
            "45\n",
            "79\n",
            "100\n",
            "79\n",
            "100\n",
            "79\n",
            "45\n",
            "79\n",
            "28\n",
            "79\n",
            "100\n",
            "27\n",
            "27\n",
            "27\n",
            "27\n",
            "79\n",
            "27\n",
            "28\n",
            "79\n",
            "6\n",
            "100\n",
            "100\n",
            "45\n",
            "45\n",
            "100\n",
            "28\n",
            "100\n",
            "100\n",
            "79\n",
            "79\n",
            "79\n",
            "79\n",
            "79\n",
            "6\n",
            "28\n",
            "100\n",
            "27\n",
            "79\n",
            "13\n",
            "28\n",
            "45\n",
            "45\n",
            "100\n",
            "100\n",
            "100\n",
            "13\n",
            "100\n",
            "28\n",
            "27\n",
            "100\n",
            "79\n",
            "45\n",
            "100\n",
            "100\n"
          ]
        }
      ]
    },
    {
      "cell_type": "markdown",
      "metadata": {
        "id": "D1xQy2WWB-kq"
      },
      "source": [
        "<h3> Q3: Replace the digits in the string with #</h3>\n",
        "\n",
        "consider a string that will have digits in that, we need to remove all the not digits and replace the digits with #\n",
        "<pre>\n",
        "Ex 1: A = 234                Output: ###\n",
        "Ex 2: A = a2b3c4             Output: ###\n",
        "Ex 3: A = abc                Output:   (empty string)\n",
        "Ex 5: A = #2a$#b%c%561#      Output: ####\n",
        "</pre>"
      ]
    },
    {
      "cell_type": "code",
      "metadata": {
        "id": "fxczi2jzB-kr",
        "colab": {
          "base_uri": "https://localhost:8080/",
          "height": 35
        },
        "outputId": "d7000ae5-9a3a-4c48-d932-aaa10361c59b"
      },
      "source": [
        "import re\n",
        "# write your python code here\n",
        "# you can take the above example as sample input for your program to test\n",
        "# it should work for any general input try not to hard code for only given input examples\n",
        "\n",
        "# you can free to change all these codes/structure\n",
        "# String: it will be the input to your program\n",
        "def replace_digits(String):\n",
        "    # write your code\n",
        "    c=''\n",
        "    for i in range(len(String)):\n",
        "      if String[i].isdigit():\n",
        "        c+='#'\n",
        "    return(c) # modified string which is after replacing the # with digits\n",
        "\n",
        "replace_digits('abcd1234')"
      ],
      "execution_count": 108,
      "outputs": [
        {
          "output_type": "execute_result",
          "data": {
            "application/vnd.google.colaboratory.intrinsic+json": {
              "type": "string"
            },
            "text/plain": [
              "'####'"
            ]
          },
          "metadata": {},
          "execution_count": 108
        }
      ]
    },
    {
      "cell_type": "markdown",
      "metadata": {
        "id": "j7h0Ywg7B-kw"
      },
      "source": [
        "<h3> Q4: Students marks dashboard</h3>\n",
        "\n",
        "consider the marks list of class students given two lists <br>\n",
        "Students = ['student1','student2','student3','student4','student5','student6','student7','student8','student9','student10'] <br>\n",
        "Marks = [45, 78, 12, 14, 48, 43, 45, 98, 35, 80] <br>\n",
        "from the above two lists the Student[0] got Marks[0],  Student[1] got Marks[1] and so on <br><br>\n",
        "your task is to print the name of students\n",
        "<strong>a. Who got top 5 ranks, in the descending order of marks</strong> <br>\n",
        "<strong>b. Who got least 5 ranks, in the increasing order of marks</strong><br>\n",
        "<strong>d. Who got marks between  &gt;25th percentile &lt;75th percentile, in the increasing order of marks</strong>\n",
        "\n",
        "<pre>\n",
        "Ex 1: \n",
        "Students=['student1','student2','student3','student4','student5','student6','student7','student8','student9','student10'] \n",
        "Marks = [45, 78, 12, 14, 48, 43, 47, 98, 35, 80]\n",
        "a. \n",
        "student8  98\n",
        "student10 80\n",
        "student2  78\n",
        "student5  48\n",
        "student7  47\n",
        "b.\n",
        "student3 12\n",
        "student4 14\n",
        "student9 35\n",
        "student6 43\n",
        "student1 45\n",
        "c.\n",
        "student9 35\n",
        "student6 43\n",
        "student1 45\n",
        "student7 47\n",
        "student5 48\n",
        "</pre>"
      ]
    },
    {
      "cell_type": "code",
      "metadata": {
        "id": "cxPJgItsB-kx",
        "colab": {
          "base_uri": "https://localhost:8080/",
          "height": 0
        },
        "outputId": "43926eca-3208-4858-bf0b-8fc4df9744e0"
      },
      "source": [
        "# write your python code here\n",
        "# you can take the above example as sample input for your program to test\n",
        "# it should work for any general input try not to hard code for only given input examples\n",
        "import math\n",
        "dicti={}\n",
        "def display_dash_board(students, marks):\n",
        "\n",
        "    for i in range(len(marks)):\n",
        "        dicti.setdefault(marks[i],[])\n",
        "        dicti[marks[i]].append(students[i]);\n",
        "    top_5 = []\n",
        "    cnt=1;\n",
        "    for i in sorted(dicti.keys(),reverse=True):\n",
        "      if cnt <= 5:\n",
        "        top_5.append(i)\n",
        "        cnt+=1\n",
        "      else:\n",
        "        break\n",
        "    print(\"Showing below top 5 Students\");\n",
        "    for i in range(0,len(top_5)):\n",
        "      print(dicti[top_5[i]],top_5[i])\n",
        "    least_5 = []\n",
        "    cnt=1;\n",
        "    for i in sorted(dicti.keys()):\n",
        "      if cnt <= 5:\n",
        "        least_5.append(i)\n",
        "        cnt+=1\n",
        "      else:\n",
        "        break\n",
        "    print(\"Showing below least 5 Students\")\n",
        "    for i in range(0, len(least_5)):\n",
        "      print(dicti[least_5[i]],least_5[i])\n",
        "    mark=sorted(dicti.keys());\n",
        "    twentyfifth = math.floor(len(mark) / 4)\n",
        "    seventyfifth = math.floor(3 * len(mark) / 4)\n",
        "    middle = mark[twentyfifth : seventyfifth]\n",
        "    print(\"Showing below the list of students between the 25th and 75th percentile\");\n",
        "    for i in range(0, len(middle)):\n",
        "      print(dicti[middle[i]],middle[i])    \n",
        "Students=['student1','student2','student3','student4','student5','student6','student7','student8','student9','student10']\n",
        "Marks = [45, 78, 12, 14, 48, 43, 47, 98, 35, 80]\n",
        "\n",
        "display_dash_board(Students, Marks)"
      ],
      "execution_count": 109,
      "outputs": [
        {
          "output_type": "stream",
          "name": "stdout",
          "text": [
            "Showing below top 5 Students\n",
            "['student8'] 98\n",
            "['student10'] 80\n",
            "['student2'] 78\n",
            "['student5'] 48\n",
            "['student7'] 47\n",
            "Showing below least 5 Students\n",
            "['student3'] 12\n",
            "['student4'] 14\n",
            "['student9'] 35\n",
            "['student6'] 43\n",
            "['student1'] 45\n",
            "Showing below the list of students between the 25th and 75th percentile\n",
            "['student9'] 35\n",
            "['student6'] 43\n",
            "['student1'] 45\n",
            "['student7'] 47\n",
            "['student5'] 48\n"
          ]
        }
      ]
    },
    {
      "cell_type": "markdown",
      "metadata": {
        "id": "qha0OhQHB-k1"
      },
      "source": [
        "<h3> Q5: Find the closest points</h3>\n",
        "\n",
        "consider you have given n data points in the form of list of tuples like S=[(x1,y1),(x2,y2),(x3,y3),(x4,y4),(x5,y5),..,(xn,yn)] and a point P=(p,q) <br> your task is to find 5 closest points(based on cosine distance) in S from P\n",
        "<br>cosine distance between two points (x,y) and (p,q) is defind as $cos^{-1}(\\frac{(x\\cdot p+y\\cdot q)}{\\sqrt(x^2+y^2)\\cdot\\sqrt(p^2+q^2)})$\n",
        "<pre>\n",
        "Ex:\n",
        "\n",
        "S= [(1,2),(3,4),(-1,1),(6,-7),(0, 6),(-5,-8),(-1,-1)(6,0),(1,-1)]\n",
        "P= (3,-4)\n",
        "<img src='https://i.imgur.com/vIFPOcG.jpg', width=300>\n",
        "Output:\n",
        "(6,-7)\n",
        "(1,-1)\n",
        "(6,0)\n",
        "(-5,-8)\n",
        "(-1,-1)\n",
        "</pre>"
      ]
    },
    {
      "cell_type": "code",
      "metadata": {
        "id": "wA5I1g-2B-k2",
        "colab": {
          "base_uri": "https://localhost:8080/",
          "height": 0
        },
        "outputId": "8815018d-4098-4184-a046-e2741ee8474e"
      },
      "source": [
        "import math\n",
        "\n",
        "# write your python code here\n",
        "# you can take the above example as sample input for your program to test\n",
        "# it should work for any general input try not to hard code for only given input examples\n",
        "# you can free to change all these codes/structure\n",
        "\n",
        "# here S is list of tuples and P is a tuple ot len=2\n",
        "def acosinedist(X,P):\n",
        "    num = X[0] * P[0] + X[1] * P[1];\n",
        "    den = math.sqrt(X[0] * X[0] + X[1] * X[1]) * math.sqrt(P[0] * P[0] + P[1] * P[1])\n",
        "    return math.acos(num/den)\n",
        "def closest_points_to_p(S, P):\n",
        "    S.sort(key=lambda x: acosinedist(x,P))\n",
        "    closest_points_to_p =S[:5];\n",
        "    return closest_points_to_p  # its list of tuples\n",
        "S= [(1,2),(3,4),(-1,1),(6,-7),(0, 6),(-5,-8),(-1,-1),(6,0),(1,-1)]\n",
        "P= (3,-4)\n",
        "points = closest_points_to_p(S, P)\n",
        "print(points) #print the returned values"
      ],
      "execution_count": 110,
      "outputs": [
        {
          "output_type": "stream",
          "name": "stdout",
          "text": [
            "[(6, -7), (1, -1), (6, 0), (-5, -8), (-1, -1)]\n"
          ]
        }
      ]
    },
    {
      "cell_type": "markdown",
      "metadata": {
        "id": "-g11jeAiB-k5"
      },
      "source": [
        "<h3> Q6: Find Which line separates oranges and apples</h3>\n",
        "consider you have given two set of data points in the form of list of tuples like \n",
        "<pre>\n",
        "Red =[(R11,R12),(R21,R22),(R31,R32),(R41,R42),(R51,R52),..,(Rn1,Rn2)]\n",
        "Blue=[(B11,B12),(B21,B22),(B31,B32),(B41,B42),(B51,B52),..,(Bm1,Bm2)]\n",
        "</pre>\n",
        "and set of line equations(in the string formate, i.e list of strings)\n",
        "<pre>\n",
        "Lines = [a1x+b1y+c1,a2x+b2y+c2,a3x+b3y+c3,a4x+b4y+c4,..,K lines]\n",
        "Note: you need to string parsing here and get the coefficients of x,y and intercept\n",
        "</pre>\n",
        "your task is to for each line that is given print \"YES\"/\"NO\", you will print yes, if all the red points are one side of the line and blue points are other side of the line, otherwise no\n",
        "<pre>\n",
        "Ex:\n",
        "Red= [(1,1),(2,1),(4,2),(2,4), (-1,4)]\n",
        "Blue= [(-2,-1),(-1,-2),(-3,-2),(-3,-1),(1,-3)]\n",
        "Lines=[\"1x+1y+0\",\"1x-1y+0\",\"1x+0y-3\",\"0x+1y-0.5\"]\n",
        "<img src='https://i.imgur.com/DoQf7mE.jpg' width=400>\n",
        "Output:\n",
        "YES\n",
        "NO\n",
        "NO\n",
        "YES\n",
        "</pre>"
      ]
    },
    {
      "cell_type": "code",
      "metadata": {
        "id": "eRxExaTRB-k6",
        "colab": {
          "base_uri": "https://localhost:8080/",
          "height": 0
        },
        "outputId": "b2867b37-fff9-4108-ff64-85e7b9f1cb24"
      },
      "source": [
        "import re\n",
        "def ArePointsSameSideOfLine(a, b, c, x1, y1, x2, y2): \n",
        "    line1 = 0 # Variable to store a * x1 + b * y1 - c \n",
        "    line2 = 0 # Variable to store a * x2 + b * y2 - c \n",
        "    line1 = a * x1 + b * y1 - c \n",
        "    line2 = a * x2 + b * y2 - c \n",
        "\n",
        "# If line1 and line2 have same sign then return true\n",
        "    if ((line1 * line2) > 0): \n",
        "        return True\n",
        "    return False\n",
        "def print_YES_NO(Red,Blue,lines):\n",
        "    for i in lines:\n",
        "        z = re.findall(r'[\\d\\.\\+\\-]+', i)\n",
        "        flag=True\n",
        "        for i in range(0,len(Red)-1):\n",
        "          flag = flag and ArePointsSameSideOfLine(float(z[0]), float(z[1]), float(z[2]), Red[i][0], Red[1][1], Red[i+1][0], Red[i+1][1])  \n",
        "        flagblue=True\n",
        "        flagblue=flagblue and not(ArePointsSameSideOfLine(float(z[0]), float(z[1]), float(z[2]), Red[1][0], Red[1][1], Blue[1][0], Blue[1][1]))\n",
        "        for i in range(0,len(Blue)-1):\n",
        "          flagblue = flagblue and ArePointsSameSideOfLine(float(z[0]), float(z[1]), float(z[2]), Blue[i][0], Blue[1][1], Blue[i+1][0], Blue[i+1][1])  \n",
        "        if(flagblue and flag):\n",
        "          print('YES')\n",
        "        else:\n",
        "          print('NO')\n",
        "Red= [(1,1),(2,1),(4,2),(2,4), (-1,4)]\n",
        "Blue= [(-2,-1),(-1,-2),(-3,-2),(-3,-1),(1,-3)]\n",
        "lines = [\"1x+1y+0\", \"1x-1y+0\",\"0x+1y-0.5\", \"1x+0y-3\" ]\n",
        "print_YES_NO(Red,Blue,lines);"
      ],
      "execution_count": 111,
      "outputs": [
        {
          "output_type": "stream",
          "name": "stdout",
          "text": [
            "YES\n",
            "NO\n",
            "YES\n",
            "NO\n"
          ]
        }
      ]
    },
    {
      "cell_type": "markdown",
      "metadata": {
        "id": "9OBpURbNB-k9"
      },
      "source": [
        "<h3> Q7: Filling the missing values in the specified formate</h3>\n",
        "You will be given a string with digits and '\\_'(missing value) symbols you have to replace the '\\_' symbols as explained \n",
        "<pre>\n",
        "Ex 1: _, _, _, 24 ==> 24/4, 24/4, 24/4, 24/4 i.e we. have distributed the 24 equally to all 4 places <br>\n",
        "Ex 2: 40, _, _, _, 60 ==> (60+40)/5,(60+40)/5,(60+40)/5,(60+40)/5,(60+40)/5 ==> 20, 20, 20, 20, 20 i.e. the sum of (60+40) is distributed qually to all 5 places<br>\n",
        "Ex 3: 80, _, _, _, _  ==> 80/5,80/5,80/5,80/5,80/5 ==> 16, 16, 16, 16, 16 i.e. the 80 is distributed qually to all 5 missing values that are right to it<br>\n",
        "Ex 4: _, _, 30, _, _, _, 50, _, _  \n",
        "==> we will fill the missing values from left to right \n",
        "    a. first we will distribute the 30 to left two missing values (10, 10, 10, _, _, _, 50, _, _)\n",
        "    b. now distribute the sum (10+50) missing values in between (10, 10, 12, 12, 12, 12, 12, _, _) \n",
        "    c. now we will distribute 12 to right side missing values (10, 10, 12, 12, 12, 12, 4, 4, 4)\n",
        "</pre>\n",
        "for a given string with comma seprate values, which will have both missing values numbers like ex: \"_, _, x, _, _, _\"\n",
        "you need fill the missing values\n",
        "\n",
        "Q: your program reads a string like ex: \"_, _, x, _, _, _\" and returns the filled sequence\n",
        "\n",
        "Ex: \n",
        "<pre>\n",
        "Input1: \"_,_,_,24\"\n",
        "Output1: 6,6,6,6\n",
        "\n",
        "Input2: \"40,_,_,_,60\"\n",
        "Output2: 20,20,20,20,20\n",
        "\n",
        "Input3: \"80,_,_,_,_\"\n",
        "Output3: 16,16,16,16,16\n",
        "\n",
        "Input4: \"_,_,30,_,_,_,50,_,_\"\n",
        "Output4: 10,10,12,12,12,12,4,4,4\n",
        "</pre>\n",
        "\n"
      ]
    },
    {
      "cell_type": "code",
      "metadata": {
        "id": "nZmpzHs_B-k-",
        "colab": {
          "base_uri": "https://localhost:8080/",
          "height": 0
        },
        "outputId": "8fb75909-676e-4b3c-b2ac-46a582a0dffc"
      },
      "source": [
        "# write your python code here\n",
        "# you can take the above example as sample input for your program to test\n",
        "# it should work for any general input try not to hard code for only given input strings\n",
        "\n",
        "def curve_smoothing(string):\n",
        "    x = string.split(\",\")\n",
        "    lefti=0\n",
        "    righti=0\n",
        "    for righti in range(1,len(x)):\n",
        "      if x[righti] != '_':    \n",
        "        if x[lefti] != '_':\n",
        "          avg=(int(x[lefti])+int(x[righti]))/(righti-lefti+1)\n",
        "          for j in range(lefti,righti+1):\n",
        "            x[j]=avg\n",
        "          lefti=righti\n",
        "        else:\n",
        "          avg=(int(x[righti]))/(righti-lefti+1)\n",
        "          for j in range(lefti,righti+1):\n",
        "             x[j]=avg\n",
        "          lefti=righti\n",
        "    if x[righti]=='_':\n",
        "      avg=int(x[lefti])/(righti-lefti+1)\n",
        "      for i in range(lefti,righti+1):\n",
        "        x[i]=avg\n",
        "    for i in range(0,len(x)):\n",
        "      x[i]=int(x[i])\n",
        "    return x\n",
        "S= \"200,_,_,_,_,5,_\"\n",
        "print(curve_smoothing(S))"
      ],
      "execution_count": 112,
      "outputs": [
        {
          "output_type": "stream",
          "name": "stdout",
          "text": [
            "[34, 34, 34, 34, 34, 17, 17]\n"
          ]
        }
      ]
    },
    {
      "cell_type": "markdown",
      "metadata": {
        "id": "RBz4pzlfB-lB"
      },
      "source": [
        "<h3> Q8: Filling the missing values in the specified formate</h3>\n",
        "You will be given a list of lists, each sublist will be of length 2 i.e. [[x,y],[p,q],[l,m]..[r,s]]\n",
        "consider its like a martrix of n rows and two columns\n",
        "1. the first column F will contain only 5 uniques values (F1, F2, F3, F4, F5)\n",
        "2. the second column S will contain only 3 uniques values (S1, S2, S3)\n",
        "<pre>\n",
        "your task is to find\n",
        "a. Probability of P(F=F1|S==S1), P(F=F1|S==S2), P(F=F1|S==S3)\n",
        "b. Probability of P(F=F2|S==S1), P(F=F2|S==S2), P(F=F2|S==S3)\n",
        "c. Probability of P(F=F3|S==S1), P(F=F3|S==S2), P(F=F3|S==S3)\n",
        "d. Probability of P(F=F4|S==S1), P(F=F4|S==S2), P(F=F4|S==S3)\n",
        "e. Probability of P(F=F5|S==S1), P(F=F5|S==S2), P(F=F5|S==S3)\n",
        "</pre>\n",
        "Ex:\n",
        "\n",
        "<pre>\n",
        "[[F1,S1],[F2,S2],[F3,S3],[F1,S2],[F2,S3],[F3,S2],[F2,S1],[F4,S1],[F4,S3],[F5,S1]]\n",
        "\n",
        "a. P(F=F1|S==S1)=1/4, P(F=F1|S==S2)=1/3, P(F=F1|S==S3)=0/3\n",
        "b. P(F=F2|S==S1)=1/4, P(F=F2|S==S2)=1/3, P(F=F2|S==S3)=1/3\n",
        "c. P(F=F3|S==S1)=0/4, P(F=F3|S==S2)=1/3, P(F=F3|S==S3)=1/3\n",
        "d. P(F=F4|S==S1)=1/4, P(F=F4|S==S2)=0/3, P(F=F4|S==S3)=1/3\n",
        "e. P(F=F5|S==S1)=1/4, P(F=F5|S==S2)=0/3, P(F=F5|S==S3)=0/3\n",
        "</pre>\n",
        "\n",
        "\n"
      ]
    },
    {
      "cell_type": "code",
      "metadata": {
        "id": "e-1giz1MB-lC",
        "colab": {
          "base_uri": "https://localhost:8080/",
          "height": 0
        },
        "outputId": "987406c3-293e-47ef-bffe-92e90c9b504e"
      },
      "source": [
        "# write your python code here\n",
        "# you can take the above example as sample input for your program to test\n",
        "# it should work for any general input try not to hard code for only given input strings\n",
        "\n",
        "\n",
        "\n",
        "# you can free to change all these codes/structure\n",
        "\n",
        "dicti1 = {\n",
        "'F1S1': 0,\n",
        "'F5S2': 0,\n",
        "'F1S3': 0,\n",
        "'F1S2': 0,\n",
        "'F2S2': 0,\n",
        "'F2S1': 0,\n",
        "'F3S1': 0,\n",
        "'F3S2': 0,\n",
        "'F2S3': 0,\n",
        "'F3S3': 0,\n",
        "'F4S1': 0,\n",
        "'F5S1': 0,\n",
        "'F4S2': 0,\n",
        "'F4S3': 0,\n",
        "'F5S3': 0,\n",
        "}\n",
        "\n",
        "dicti2 = {\n",
        "'S1': 0,\n",
        "'S2': 0,\n",
        "'S3': 0\n",
        "}\n",
        "\n",
        "\n",
        "def compute_conditional_probabilites(A):\n",
        "    for i in range(len(A)):\n",
        "       k = A[i][0] + A[i][1]\n",
        "       dicti1[k] += 1\n",
        "       dicti2[A[i][1]] += 1\n",
        "A = [['F1','S1'],['F2','S2'],['F3','S3'],['F1','S2'],['F2','S3'],['F3','S2'],['F2','S1'],['F4','S1'],['F4','S3'],['F5','S1']]\n",
        "compute_conditional_probabilites(A)\n",
        "print(\"F1\")\n",
        "print('Probability of P(F=F1|S==S1)', (dicti1['F1S1']/dicti2['S1']))\n",
        "print('Probability of P(F=F1|S==S2)', (dicti1['F1S2']/dicti2['S2']))\n",
        "print('Probability of P(F=F1|S==S3)', (dicti1['F1S3']/dicti2['S3']))\n",
        "print(\"F2\")\n",
        "print('Probability of P(F=F2|S==S1)', (dicti1['F2S1']/dicti2['S1']))\n",
        "print('Probability of P(F=F2|S==S2)', (dicti1['F2S2']/dicti2['S2']))\n",
        "print('Probability of P(F=F2|S==S3)', (dicti1['F2S3']/dicti2['S3']))\n",
        "print(\"F3\")\n",
        "print('Probability of P(F=F3|S==S1)', (dicti1['F3S1']/dicti2['S1']))\n",
        "print('Probability of P(F=F3|S==S2)', (dicti1['F3S2']/dicti2['S2']))\n",
        "print('Probability of P(F=F3|S==S3)', (dicti1['F3S3']/dicti2['S3']))\n",
        "print(\"F4\")\n",
        "print('Probability of P(F=F4|S==S1)', (dicti1['F4S1']/dicti2['S1']))\n",
        "print('Probability of P(F=F4|S==S2)', (dicti1['F4S2']/dicti2['S2']))\n",
        "print('Probability of P(F=F4|S==S3)', (dicti1['F4S3']/dicti2['S3']))\n",
        "print(\"F5\")\n",
        "print('Probability of P(F=F5|S==S1)', (dicti1['F5S1']/dicti2['S1']))\n",
        "print('Probability of P(F=F5|S==S2)', (dicti1['F5S2']/dicti2['S2']))\n",
        "print('Probability of P(F=F5|S==S3)', (dicti1['F5S3']/dicti2['S3']))\n",
        "compute_conditional_probabilites(A)"
      ],
      "execution_count": 113,
      "outputs": [
        {
          "output_type": "stream",
          "name": "stdout",
          "text": [
            "F1\n",
            "Probability of P(F=F1|S==S1) 0.25\n",
            "Probability of P(F=F1|S==S2) 0.3333333333333333\n",
            "Probability of P(F=F1|S==S3) 0.0\n",
            "F2\n",
            "Probability of P(F=F2|S==S1) 0.25\n",
            "Probability of P(F=F2|S==S2) 0.3333333333333333\n",
            "Probability of P(F=F2|S==S3) 0.3333333333333333\n",
            "F3\n",
            "Probability of P(F=F3|S==S1) 0.0\n",
            "Probability of P(F=F3|S==S2) 0.3333333333333333\n",
            "Probability of P(F=F3|S==S3) 0.3333333333333333\n",
            "F4\n",
            "Probability of P(F=F4|S==S1) 0.25\n",
            "Probability of P(F=F4|S==S2) 0.0\n",
            "Probability of P(F=F4|S==S3) 0.3333333333333333\n",
            "F5\n",
            "Probability of P(F=F5|S==S1) 0.25\n",
            "Probability of P(F=F5|S==S2) 0.0\n",
            "Probability of P(F=F5|S==S3) 0.0\n"
          ]
        }
      ]
    },
    {
      "cell_type": "markdown",
      "metadata": {
        "id": "n4HS87QmB-lF"
      },
      "source": [
        "<h3> Q9: Given two sentances S1, S2</h3>\n",
        "You will be given two sentances S1, S2 your task is to find \n",
        "<pre>\n",
        "a. Number of common words between S1, S2\n",
        "b. Words in S1 but not in S2\n",
        "c. Words in S2 but not in S1\n",
        "</pre>\n",
        "\n",
        "Ex: \n",
        "<pre>\n",
        "S1= \"the first column F will contain only 5 uniques values\"\n",
        "S2= \"the second column S will contain only 3 uniques values\"\n",
        "Output:\n",
        "a. 7\n",
        "b. ['first','F','5']\n",
        "c. ['second','S','3']\n",
        "</pre>"
      ]
    },
    {
      "cell_type": "code",
      "metadata": {
        "id": "Ez7hlHK0B-lG",
        "colab": {
          "base_uri": "https://localhost:8080/",
          "height": 0
        },
        "outputId": "3050b193-7e93-4382-8c16-3fe0ff87542a"
      },
      "source": [
        "# write your python code here\n",
        "# you can take the above example as sample input for your program to test\n",
        "# it should work for any general input try not to hard code for only given input strings\n",
        "\n",
        "# you can free to change all these codes/structure\n",
        "\n",
        "\n",
        "#using dictionnary because dictionary is ordered and in list ,it takes linear time to search in list\n",
        "def string_features(S1, S2):\n",
        "  x=S1.split(\" \");\n",
        "  dicti1={}\n",
        "  for i in range(0,len(x)):\n",
        "    dicti1[x[i]]=1\n",
        "  dicti12={}\n",
        "  y=S2.split(\" \");\n",
        "  for i in range(0,len(x)):\n",
        "    dicti2[y[i]]=1 \n",
        "  common=[]\n",
        "  for i in range(0,len(y)):\n",
        "    if y[i] in dicti1.keys():\n",
        "      common.append(y[i])\n",
        "  print(\"common\",common)\n",
        "  S1NotS2=[]\n",
        "  for i in range(0,len(x)):\n",
        "    if x[i] not in dicti2.keys():\n",
        "      S1NotS2.append(x[i])\n",
        "  print(S1NotS2)\n",
        "  S2NotS1=[]\n",
        "  for i in range(0,len(y)):\n",
        "    if y[i] not in dicti1.keys():\n",
        "      S2NotS1.append(y[i])\n",
        "  print(S2NotS1)\n",
        "  return len(common),S1NotS2,S2NotS1\n",
        "\n",
        "S1= \"the first column F will contain only 5 uniques values\"\n",
        "S2= \"the second column S will contain only 3 uniques values\"\n",
        "a,b,c = string_features(S1, S2)"
      ],
      "execution_count": 114,
      "outputs": [
        {
          "output_type": "stream",
          "name": "stdout",
          "text": [
            "common ['the', 'column', 'will', 'contain', 'only', 'uniques', 'values']\n",
            "['first', 'F', '5']\n",
            "['second', 'S', '3']\n"
          ]
        }
      ]
    },
    {
      "cell_type": "markdown",
      "metadata": {
        "id": "XefXVEjCB-lI"
      },
      "source": [
        "<h3> Q10: Given two sentances S1, S2</h3>\n",
        "You will be given a list of lists, each sublist will be of length 2 i.e. [[x,y],[p,q],[l,m]..[r,s]]\n",
        "consider its like a martrix of n rows and two columns\n",
        "\n",
        "a. the first column Y will contain interger values <br>\n",
        "b. the second column $Y_{score}$ will be having float values <br>\n",
        "Your task is to find the value of $f(Y,Y_{score}) = -1*\\frac{1}{n}\\Sigma_{for each Y,Y_{score} pair}(Ylog10(Y_{score})+(1-Y)log10(1-Y_{score}))$ here n is the number of rows in the matrix\n",
        "<pre>\n",
        "Ex:\n",
        "[[1, 0.4], [0, 0.5], [0, 0.9], [0, 0.3], [0, 0.6], [1, 0.1], [1, 0.9], [1, 0.8]]\n",
        "output:\n",
        "0.4243099\n",
        "</pre>\n",
        "$\\frac{-1}{8}\\cdot((1\\cdot log_{10}(0.4)+0\\cdot log_{10}(0.6))+(0\\cdot log_{10}(0.5)+1\\cdot log_{10}(0.5)) + ... + (1\\cdot log_{10}(0.8)+0\\cdot log_{10}(0.2)) )$"
      ]
    },
    {
      "cell_type": "code",
      "metadata": {
        "id": "N9zkagyNB-lJ",
        "colab": {
          "base_uri": "https://localhost:8080/",
          "height": 0
        },
        "outputId": "f12bd5e1-7029-4d21-b114-fe0eb6db3048"
      },
      "source": [
        "# write your python code here\n",
        "# you can take the above example as sample input for your program to test\n",
        "# it should work for any general input try not to hard code for only given input strings\n",
        "\n",
        "\n",
        "# you can free to change all these codes/structure\n",
        "import math\n",
        "def compute_log_loss(A):\n",
        "    Y = len(A)  \n",
        "    l = 0\n",
        "    for i in range(Y):\n",
        "        l += A[i][0]*math.log10(A[i][1]) + (1-A[i][0])*math.log10(1-A[i][1])\n",
        "    loss=(-1*l)/Y\n",
        "    return loss\n",
        "\n",
        "A = [[1, 0.4], [0, 0.5], [0, 0.9], [0, 0.3], [0, 0.6], [1, 0.1], [1, 0.9], [1, 0.8]]\n",
        "loss = compute_log_loss(A)\n",
        "print(loss)"
      ],
      "execution_count": 115,
      "outputs": [
        {
          "output_type": "stream",
          "name": "stdout",
          "text": [
            "0.42430993457031635\n"
          ]
        }
      ]
    }
  ]
}